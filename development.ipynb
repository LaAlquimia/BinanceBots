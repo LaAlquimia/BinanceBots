{
 "cells": [
  {
   "cell_type": "code",
   "execution_count": 1,
   "id": "af011c75-8368-4b77-894a-ec2d25ad6535",
   "metadata": {},
   "outputs": [],
   "source": [
    "%load_ext autoreload\n",
    "%autoreload 2\n",
    "from binance.client import Client, AsyncClient\n",
    "import pandas as pd \n"
   ]
  },
  {
   "cell_type": "code",
   "execution_count": 2,
   "id": "d518dd46-19a8-4ce9-b35f-3225eeb5ba4e",
   "metadata": {},
   "outputs": [],
   "source": [
    "client = Client()\n"
   ]
  },
  {
   "cell_type": "code",
   "execution_count": 3,
   "id": "f65b3496-3028-44c4-8e93-6ffddb93d8ff",
   "metadata": {},
   "outputs": [],
   "source": [
    "kline =client.futures_klines(symbol= \"BTCUSDT\", interval =  client.KLINE_INTERVAL_5MINUTE, limit = 20)\n"
   ]
  },
  {
   "cell_type": "code",
   "execution_count": 20,
   "id": "b6e0e49b-57d8-4e0d-89a9-725116460b69",
   "metadata": {},
   "outputs": [],
   "source": [
    "df = pd.DataFrame(kline, columns=[\n",
    "    \"time_open\",\n",
    "    \"open\",\n",
    "    \"high\",\n",
    "    \"low\",\n",
    "    \"close\",\n",
    "    \"volume\",\n",
    "    \"time_close\",\n",
    "    \"quote_aset_volume\",\n",
    "    \"trades\",\n",
    "    \"\",\n",
    "    \"\",\n",
    "    \"\",], )"
   ]
  },
  {
   "cell_type": "code",
   "execution_count": 21,
   "id": "a81743d3-5776-42d4-a7a7-e380c284ba8e",
   "metadata": {},
   "outputs": [],
   "source": [
    "from binance import BinanceSocketManager"
   ]
  },
  {
   "cell_type": "code",
   "execution_count": 3,
   "id": "4b75350d",
   "metadata": {},
   "outputs": [],
   "source": [
    "\n",
    "async def socket():\n",
    "    client = await AsyncClient.create()\n",
    "    bm = BinanceSocketManager(client)\n",
    "    # start any sockets here, i.e a trade socket\n",
    "    ts = bm.trade_socket('BNBBTC')\n",
    "    # then start receiving messages\n",
    "    async with ts as tscm:\n",
    "        while True:\n",
    "            res = await tscm.recv()\n",
    "            print(res)\n",
    "\n",
    "    await client.close_connection()"
   ]
  }
 ],
 "metadata": {
  "kernelspec": {
   "display_name": "Python 3 (ipykernel)",
   "language": "python",
   "name": "python3"
  },
  "language_info": {
   "codemirror_mode": {
    "name": "ipython",
    "version": 3
   },
   "file_extension": ".py",
   "mimetype": "text/x-python",
   "name": "python",
   "nbconvert_exporter": "python",
   "pygments_lexer": "ipython3",
   "version": "3.10.12"
  }
 },
 "nbformat": 4,
 "nbformat_minor": 5
}
