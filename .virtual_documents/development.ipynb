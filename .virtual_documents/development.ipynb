%load_ext autoreload
%autoreload 2
from binance.client import Client, AsyncClient
import pandas as pd 



client = Client()



kline =client.futures_klines(symbol= "BTCUSDT", interval =  client.KLINE_INTERVAL_5MINUTE, limit = 20)



pd.DataFrame(kline)



